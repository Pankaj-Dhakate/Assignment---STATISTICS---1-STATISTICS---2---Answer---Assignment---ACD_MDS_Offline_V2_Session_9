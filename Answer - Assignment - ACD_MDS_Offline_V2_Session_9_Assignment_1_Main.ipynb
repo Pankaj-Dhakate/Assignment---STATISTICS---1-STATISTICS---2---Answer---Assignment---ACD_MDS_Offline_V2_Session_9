{
 "cells": [
  {
   "cell_type": "markdown",
   "metadata": {},
   "source": [
    "#### Task 1:"
   ]
  },
  {
   "cell_type": "raw",
   "metadata": {},
   "source": [
    "Task 1:\n",
    "1. You survey households in your area to find the average rent they are paying. Find the\n",
    "standard deviation from the following data:\n",
    "$1550, $1700, $900, $850, $1000, $950."
   ]
  },
  {
   "cell_type": "code",
   "execution_count": 2,
   "metadata": {},
   "outputs": [
    {
     "name": "stdout",
     "output_type": "stream",
     "text": [
      "Calculation using custom method\n",
      "Mean 1158.3333333333333\n",
      "variance 135416.6666666667\n",
      "std_dev 367.99003609699366\n",
      "Calculation using statistics library\n",
      "Mean 1158.3333333333333\n",
      "Variance 135416.66666666666\n",
      "std_dev 367.9900360969936\n"
     ]
    }
   ],
   "source": [
    "def find_mean(arr):\n",
    " return sum(arr)/len(arr)\n",
    "\n",
    "def find_variance(arr):\n",
    " variance = 0.0\n",
    " from math import sqrt\n",
    " \n",
    " mean = find_mean(arr)\n",
    " variance = sum((x - mean)**2 for x in arr) / (len(arr)-1)\n",
    " return variance\n",
    "\n",
    "def find_std_dev(arr):\n",
    " return find_variance(arr)**0.5\n",
    "\n",
    "arr = [1550,1700,900,850,1000,950]\n",
    "\n",
    "print(\"Calculation using custom method\")\n",
    "print (\"Mean \" + str(find_mean(arr)))\n",
    "print (\"variance \" + str(find_variance(arr)))\n",
    "print(\"std_dev \" + str(find_std_dev(arr)))\n",
    "\n",
    "print(\"Calculation using statistics library\")\n",
    "import statistics as stat\n",
    "print(str(\"Mean \" + str(stat.mean(arr))))\n",
    "print(str(\"Variance \" + str(stat.variance(arr))))\n",
    "print(str(\"std_dev \" + str(stat.stdev(arr))))"
   ]
  },
  {
   "cell_type": "markdown",
   "metadata": {},
   "source": [
    "#### 2. Find the variance for the following set of data representing trees in California (heights in feet): 3, 21, 98, 203, 17, 9"
   ]
  },
  {
   "cell_type": "code",
   "execution_count": 7,
   "metadata": {},
   "outputs": [
    {
     "name": "stdout",
     "output_type": "stream",
     "text": [
      "The Variance of given data set => 6219.9\n"
     ]
    }
   ],
   "source": [
    "a=[3, 21, 98, 203, 17, 9]\n",
    "b=stat.variance(a)\n",
    "print(\"The Variance of given data set =>\",b)"
   ]
  },
  {
   "cell_type": "markdown",
   "metadata": {},
   "source": [
    "#### 3. In a class on 100 students, 80 students passed in all subjects, 10 failed in one subject, 7 failed in two subjects and 3 failed in three subjects. Find the probability distribution of the variable for number of subjects a student from the given class has failed in"
   ]
  },
  {
   "cell_type": "code",
   "execution_count": 15,
   "metadata": {},
   "outputs": [
    {
     "name": "stdout",
     "output_type": "stream",
     "text": [
      "The probability of failing in 0 subjects, P(X=0) =  0.8\n",
      "The probability of failing in 1 subjects, P(X=1) =  0.1\n",
      "The probability of failing in 2 subjects, P(X=2) =  0.07\n",
      "The probability of failing in 3 subjects, P(X=3) =  0.03\n"
     ]
    }
   ],
   "source": [
    "print(\"The probability of failing in 0 subjects, P(X=0) = \",80/100)\n",
    "print(\"The probability of failing in 1 subjects, P(X=1) = \",10/100)\n",
    "print(\"The probability of failing in 2 subjects, P(X=2) = \",7/100)\n",
    "print(\"The probability of failing in 3 subjects, P(X=3) = \",3/100)"
   ]
  },
  {
   "cell_type": "markdown",
   "metadata": {},
   "source": [
    "#### Task 2:\n",
    "1. A test is conducted which is consisting of 20 MCQs (multiple choices questions) with every\n",
    "MCQ having its four options out of which only one is correct. Determine the probability that a\n",
    "person undertaking that test has answered exactly 5 questions wrong."
   ]
  },
  {
   "cell_type": "code",
   "execution_count": 44,
   "metadata": {},
   "outputs": [
    {
     "name": "stdout",
     "output_type": "stream",
     "text": [
      "Probability of giving a right answer 0.25\n",
      "Probability of giving a wrong answer 0.75\n",
      "Valueof C(20, 5) =  15504.0\n",
      "P(exactly 5 out of 20 answers incorrect) = C(20, 5) x (1/4)**15 x (3/4)**5 =  3.4e-06\n"
     ]
    }
   ],
   "source": [
    "a=1/4\n",
    "print(\"Probability of giving a right answer\",a)\n",
    "b=1-(1/4)\n",
    "print(\"Probability of giving a wrong answer\",b)\n",
    "c=((20*19*18*17*16)/(5*4*3*2*1))\n",
    "print(\"Valueof C(20, 5) = \",c)\n",
    "print(\"P(exactly 5 out of 20 answers incorrect) = C(20, 5) x (1/4)**15 x (3/4)**5 = \",round(c*(a**15)*(b**5),7))"
   ]
  },
  {
   "cell_type": "markdown",
   "metadata": {},
   "source": [
    "##### 2. A die marked A to E is rolled 50 times. Find the probability of getting a “D” exactly 5 times"
   ]
  },
  {
   "cell_type": "code",
   "execution_count": 52,
   "metadata": {},
   "outputs": [
    {
     "name": "stdout",
     "output_type": "stream",
     "text": [
      "The probability of getting a “D” exactly 5 time 0.19999999999999996\n"
     ]
    }
   ],
   "source": [
    "print(\"The probability of getting a “D” exactly 5 time\",1-(4/5))"
   ]
  },
  {
   "cell_type": "markdown",
   "metadata": {},
   "source": [
    "##### 3. Two balls are drawn at random in succession without replacement from an urn containing 4 red balls and 6 black balls. Find the probabilities of all the possible outcomes."
   ]
  },
  {
   "cell_type": "code",
   "execution_count": 56,
   "metadata": {},
   "outputs": [
    {
     "name": "stdout",
     "output_type": "stream",
     "text": [
      "Total Outcomes= 6+4 =  10\n",
      "Probability of getting red ball=  0.4\n",
      "Probability of getting black ball =  0.6\n"
     ]
    }
   ],
   "source": [
    "a= 6+4\n",
    "print(\"Total Outcomes= 6+4 = \", 10)\n",
    "print(\"Probability of getting red ball= \",4/10)\n",
    "print(\"Probability of getting black ball = \",6/10)"
   ]
  }
 ],
 "metadata": {
  "kernelspec": {
   "display_name": "Python 3",
   "language": "python",
   "name": "python3"
  },
  "language_info": {
   "codemirror_mode": {
    "name": "ipython",
    "version": 3
   },
   "file_extension": ".py",
   "mimetype": "text/x-python",
   "name": "python",
   "nbconvert_exporter": "python",
   "pygments_lexer": "ipython3",
   "version": "3.7.3"
  }
 },
 "nbformat": 4,
 "nbformat_minor": 2
}
